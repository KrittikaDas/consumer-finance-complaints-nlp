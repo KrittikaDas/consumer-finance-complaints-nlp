{
  "nbformat": 4,
  "nbformat_minor": 0,
  "metadata": {
    "colab": {
      "provenance": [],
      "authorship_tag": "ABX9TyOzodpSSkW4Qr0w8x1r+l5d",
      "include_colab_link": true
    },
    "kernelspec": {
      "name": "python3",
      "display_name": "Python 3"
    },
    "language_info": {
      "name": "python"
    }
  },
  "cells": [
    {
      "cell_type": "markdown",
      "metadata": {
        "id": "view-in-github",
        "colab_type": "text"
      },
      "source": [
        "<a href=\"https://colab.research.google.com/github/KrittikaDas/consumer-finance-complaints-nlp/blob/main/US_consumer_complaints.ipynb\" target=\"_parent\"><img src=\"https://colab.research.google.com/assets/colab-badge.svg\" alt=\"Open In Colab\"/></a>"
      ]
    },
    {
      "cell_type": "code",
      "execution_count": 1,
      "metadata": {
        "id": "W_joKy5g_KcX"
      },
      "outputs": [],
      "source": [
        "import pandas as pd"
      ]
    },
    {
      "cell_type": "code",
      "source": [
        "import re\n",
        "import string\n",
        "import matplotlib.pyplot as plt\n",
        "import seaborn as sns\n",
        "from sklearn.feature_extraction.text import CountVectorizer\n",
        "from sklearn.feature_extraction.text import TfidfVectorizer\n",
        "from sklearn.model_selection import train_test_split\n",
        "from sklearn.linear_model import LogisticRegression\n",
        "from sklearn.metrics import classification_report\n",
        "from sklearn.decomposition import LatentDirichletAllocation"
      ],
      "metadata": {
        "id": "hhdaLKIBUHPD"
      },
      "execution_count": 10,
      "outputs": []
    },
    {
      "cell_type": "code",
      "source": [
        "from google.colab import files\n",
        "uploaded = files.upload()"
      ],
      "metadata": {
        "colab": {
          "base_uri": "https://localhost:8080/",
          "height": 73
        },
        "id": "Vtnz1TgI_00o",
        "outputId": "f2ec2dc7-8d1b-4bc5-fc11-d23de66e6c9b"
      },
      "execution_count": 5,
      "outputs": [
        {
          "output_type": "display_data",
          "data": {
            "text/plain": [
              "<IPython.core.display.HTML object>"
            ],
            "text/html": [
              "\n",
              "     <input type=\"file\" id=\"files-3a25f1e8-99c4-4a24-8949-bbdc0c554ef3\" name=\"files[]\" multiple disabled\n",
              "        style=\"border:none\" />\n",
              "     <output id=\"result-3a25f1e8-99c4-4a24-8949-bbdc0c554ef3\">\n",
              "      Upload widget is only available when the cell has been executed in the\n",
              "      current browser session. Please rerun this cell to enable.\n",
              "      </output>\n",
              "      <script>// Copyright 2017 Google LLC\n",
              "//\n",
              "// Licensed under the Apache License, Version 2.0 (the \"License\");\n",
              "// you may not use this file except in compliance with the License.\n",
              "// You may obtain a copy of the License at\n",
              "//\n",
              "//      http://www.apache.org/licenses/LICENSE-2.0\n",
              "//\n",
              "// Unless required by applicable law or agreed to in writing, software\n",
              "// distributed under the License is distributed on an \"AS IS\" BASIS,\n",
              "// WITHOUT WARRANTIES OR CONDITIONS OF ANY KIND, either express or implied.\n",
              "// See the License for the specific language governing permissions and\n",
              "// limitations under the License.\n",
              "\n",
              "/**\n",
              " * @fileoverview Helpers for google.colab Python module.\n",
              " */\n",
              "(function(scope) {\n",
              "function span(text, styleAttributes = {}) {\n",
              "  const element = document.createElement('span');\n",
              "  element.textContent = text;\n",
              "  for (const key of Object.keys(styleAttributes)) {\n",
              "    element.style[key] = styleAttributes[key];\n",
              "  }\n",
              "  return element;\n",
              "}\n",
              "\n",
              "// Max number of bytes which will be uploaded at a time.\n",
              "const MAX_PAYLOAD_SIZE = 100 * 1024;\n",
              "\n",
              "function _uploadFiles(inputId, outputId) {\n",
              "  const steps = uploadFilesStep(inputId, outputId);\n",
              "  const outputElement = document.getElementById(outputId);\n",
              "  // Cache steps on the outputElement to make it available for the next call\n",
              "  // to uploadFilesContinue from Python.\n",
              "  outputElement.steps = steps;\n",
              "\n",
              "  return _uploadFilesContinue(outputId);\n",
              "}\n",
              "\n",
              "// This is roughly an async generator (not supported in the browser yet),\n",
              "// where there are multiple asynchronous steps and the Python side is going\n",
              "// to poll for completion of each step.\n",
              "// This uses a Promise to block the python side on completion of each step,\n",
              "// then passes the result of the previous step as the input to the next step.\n",
              "function _uploadFilesContinue(outputId) {\n",
              "  const outputElement = document.getElementById(outputId);\n",
              "  const steps = outputElement.steps;\n",
              "\n",
              "  const next = steps.next(outputElement.lastPromiseValue);\n",
              "  return Promise.resolve(next.value.promise).then((value) => {\n",
              "    // Cache the last promise value to make it available to the next\n",
              "    // step of the generator.\n",
              "    outputElement.lastPromiseValue = value;\n",
              "    return next.value.response;\n",
              "  });\n",
              "}\n",
              "\n",
              "/**\n",
              " * Generator function which is called between each async step of the upload\n",
              " * process.\n",
              " * @param {string} inputId Element ID of the input file picker element.\n",
              " * @param {string} outputId Element ID of the output display.\n",
              " * @return {!Iterable<!Object>} Iterable of next steps.\n",
              " */\n",
              "function* uploadFilesStep(inputId, outputId) {\n",
              "  const inputElement = document.getElementById(inputId);\n",
              "  inputElement.disabled = false;\n",
              "\n",
              "  const outputElement = document.getElementById(outputId);\n",
              "  outputElement.innerHTML = '';\n",
              "\n",
              "  const pickedPromise = new Promise((resolve) => {\n",
              "    inputElement.addEventListener('change', (e) => {\n",
              "      resolve(e.target.files);\n",
              "    });\n",
              "  });\n",
              "\n",
              "  const cancel = document.createElement('button');\n",
              "  inputElement.parentElement.appendChild(cancel);\n",
              "  cancel.textContent = 'Cancel upload';\n",
              "  const cancelPromise = new Promise((resolve) => {\n",
              "    cancel.onclick = () => {\n",
              "      resolve(null);\n",
              "    };\n",
              "  });\n",
              "\n",
              "  // Wait for the user to pick the files.\n",
              "  const files = yield {\n",
              "    promise: Promise.race([pickedPromise, cancelPromise]),\n",
              "    response: {\n",
              "      action: 'starting',\n",
              "    }\n",
              "  };\n",
              "\n",
              "  cancel.remove();\n",
              "\n",
              "  // Disable the input element since further picks are not allowed.\n",
              "  inputElement.disabled = true;\n",
              "\n",
              "  if (!files) {\n",
              "    return {\n",
              "      response: {\n",
              "        action: 'complete',\n",
              "      }\n",
              "    };\n",
              "  }\n",
              "\n",
              "  for (const file of files) {\n",
              "    const li = document.createElement('li');\n",
              "    li.append(span(file.name, {fontWeight: 'bold'}));\n",
              "    li.append(span(\n",
              "        `(${file.type || 'n/a'}) - ${file.size} bytes, ` +\n",
              "        `last modified: ${\n",
              "            file.lastModifiedDate ? file.lastModifiedDate.toLocaleDateString() :\n",
              "                                    'n/a'} - `));\n",
              "    const percent = span('0% done');\n",
              "    li.appendChild(percent);\n",
              "\n",
              "    outputElement.appendChild(li);\n",
              "\n",
              "    const fileDataPromise = new Promise((resolve) => {\n",
              "      const reader = new FileReader();\n",
              "      reader.onload = (e) => {\n",
              "        resolve(e.target.result);\n",
              "      };\n",
              "      reader.readAsArrayBuffer(file);\n",
              "    });\n",
              "    // Wait for the data to be ready.\n",
              "    let fileData = yield {\n",
              "      promise: fileDataPromise,\n",
              "      response: {\n",
              "        action: 'continue',\n",
              "      }\n",
              "    };\n",
              "\n",
              "    // Use a chunked sending to avoid message size limits. See b/62115660.\n",
              "    let position = 0;\n",
              "    do {\n",
              "      const length = Math.min(fileData.byteLength - position, MAX_PAYLOAD_SIZE);\n",
              "      const chunk = new Uint8Array(fileData, position, length);\n",
              "      position += length;\n",
              "\n",
              "      const base64 = btoa(String.fromCharCode.apply(null, chunk));\n",
              "      yield {\n",
              "        response: {\n",
              "          action: 'append',\n",
              "          file: file.name,\n",
              "          data: base64,\n",
              "        },\n",
              "      };\n",
              "\n",
              "      let percentDone = fileData.byteLength === 0 ?\n",
              "          100 :\n",
              "          Math.round((position / fileData.byteLength) * 100);\n",
              "      percent.textContent = `${percentDone}% done`;\n",
              "\n",
              "    } while (position < fileData.byteLength);\n",
              "  }\n",
              "\n",
              "  // All done.\n",
              "  yield {\n",
              "    response: {\n",
              "      action: 'complete',\n",
              "    }\n",
              "  };\n",
              "}\n",
              "\n",
              "scope.google = scope.google || {};\n",
              "scope.google.colab = scope.google.colab || {};\n",
              "scope.google.colab._files = {\n",
              "  _uploadFiles,\n",
              "  _uploadFilesContinue,\n",
              "};\n",
              "})(self);\n",
              "</script> "
            ]
          },
          "metadata": {}
        },
        {
          "output_type": "stream",
          "name": "stdout",
          "text": [
            "Saving consumer_complaints.csv to consumer_complaints (1).csv\n"
          ]
        }
      ]
    },
    {
      "cell_type": "code",
      "source": [
        "df = pd.read_csv('consumer_complaints.csv')"
      ],
      "metadata": {
        "colab": {
          "base_uri": "https://localhost:8080/"
        },
        "id": "8l7UNaDr_NzV",
        "outputId": "5d32d3c7-24b3-41ee-a55c-bf5aee9eb97c"
      },
      "execution_count": 6,
      "outputs": [
        {
          "output_type": "stream",
          "name": "stderr",
          "text": [
            "<ipython-input-6-99aedf8005e8>:1: DtypeWarning: Columns (5,11) have mixed types. Specify dtype option on import or set low_memory=False.\n",
            "  df = pd.read_csv('consumer_complaints.csv')\n"
          ]
        }
      ]
    },
    {
      "cell_type": "code",
      "source": [
        "print(\"First 5 rows of the DataFrame:\")\n",
        "print(df.head())\n",
        "print(\"\\nColumn names:\")\n",
        "print(df.columns)  # Print all column names!\n",
        "print(\"\\nDataFrame Info:\")\n",
        "print(df.info())"
      ],
      "metadata": {
        "colab": {
          "base_uri": "https://localhost:8080/"
        },
        "id": "RuK0ki1yS5Rw",
        "outputId": "7ea53b37-42fe-4703-b865-7e3b728dcdf2"
      },
      "execution_count": 16,
      "outputs": [
        {
          "output_type": "stream",
          "name": "stdout",
          "text": [
            "First 5 rows of the DataFrame:\n",
            "  date_received           product               sub_product  \\\n",
            "0    08/30/2013          Mortgage            Other mortgage   \n",
            "1    08/30/2013          Mortgage            Other mortgage   \n",
            "2    08/30/2013  Credit reporting                       NaN   \n",
            "3    08/30/2013      Student loan  Non-federal student loan   \n",
            "4    08/30/2013   Debt collection               Credit card   \n",
            "\n",
            "                                      issue  \\\n",
            "0  Loan modification,collection,foreclosure   \n",
            "1  Loan servicing, payments, escrow account   \n",
            "2    Incorrect information on credit report   \n",
            "3                        Repaying your loan   \n",
            "4        False statements or representation   \n",
            "\n",
            "                           sub_issue consumer_complaint_narrative  \\\n",
            "0                                NaN                          NaN   \n",
            "1                                NaN                          NaN   \n",
            "2                     Account status                          NaN   \n",
            "3                 Repaying your loan                          NaN   \n",
            "4  Attempted to collect wrong amount                          NaN   \n",
            "\n",
            "  company_public_response                          company state zipcode tags  \\\n",
            "0                     NaN                     U.S. Bancorp    CA   95993  NaN   \n",
            "1                     NaN            Wells Fargo & Company    CA   91104  NaN   \n",
            "2                     NaN            Wells Fargo & Company    NY   11764  NaN   \n",
            "3                     NaN          Navient Solutions, Inc.    MD   21402  NaN   \n",
            "4                     NaN  Resurgent Capital Services L.P.    GA   30106  NaN   \n",
            "\n",
            "  consumer_consent_provided submitted_via date_sent_to_company  \\\n",
            "0                       NaN      Referral           09/03/2013   \n",
            "1                       NaN      Referral           09/03/2013   \n",
            "2                       NaN   Postal mail           09/18/2013   \n",
            "3                       NaN         Email           08/30/2013   \n",
            "4                       NaN           Web           08/30/2013   \n",
            "\n",
            "  company_response_to_consumer timely_response consumer_disputed?  \\\n",
            "0      Closed with explanation             Yes                Yes   \n",
            "1      Closed with explanation             Yes                Yes   \n",
            "2      Closed with explanation             Yes                 No   \n",
            "3      Closed with explanation             Yes                Yes   \n",
            "4      Closed with explanation             Yes                Yes   \n",
            "\n",
            "   complaint_id  \n",
            "0        511074  \n",
            "1        511080  \n",
            "2        510473  \n",
            "3        510326  \n",
            "4        511067  \n",
            "\n",
            "Column names:\n",
            "Index(['date_received', 'product', 'sub_product', 'issue', 'sub_issue',\n",
            "       'consumer_complaint_narrative', 'company_public_response', 'company',\n",
            "       'state', 'zipcode', 'tags', 'consumer_consent_provided',\n",
            "       'submitted_via', 'date_sent_to_company', 'company_response_to_consumer',\n",
            "       'timely_response', 'consumer_disputed?', 'complaint_id'],\n",
            "      dtype='object')\n",
            "\n",
            "DataFrame Info:\n",
            "<class 'pandas.core.frame.DataFrame'>\n",
            "RangeIndex: 555957 entries, 0 to 555956\n",
            "Data columns (total 18 columns):\n",
            " #   Column                        Non-Null Count   Dtype \n",
            "---  ------                        --------------   ----- \n",
            " 0   date_received                 555957 non-null  object\n",
            " 1   product                       555957 non-null  object\n",
            " 2   sub_product                   397635 non-null  object\n",
            " 3   issue                         555957 non-null  object\n",
            " 4   sub_issue                     212622 non-null  object\n",
            " 5   consumer_complaint_narrative  66806 non-null   object\n",
            " 6   company_public_response       85124 non-null   object\n",
            " 7   company                       555957 non-null  object\n",
            " 8   state                         551070 non-null  object\n",
            " 9   zipcode                       551452 non-null  object\n",
            " 10  tags                          77959 non-null   object\n",
            " 11  consumer_consent_provided     123458 non-null  object\n",
            " 12  submitted_via                 555957 non-null  object\n",
            " 13  date_sent_to_company          555957 non-null  object\n",
            " 14  company_response_to_consumer  555957 non-null  object\n",
            " 15  timely_response               555957 non-null  object\n",
            " 16  consumer_disputed?            555957 non-null  object\n",
            " 17  complaint_id                  555957 non-null  int64 \n",
            "dtypes: int64(1), object(17)\n",
            "memory usage: 76.3+ MB\n",
            "None\n"
          ]
        }
      ]
    },
    {
      "cell_type": "code",
      "source": [
        "df_insurance = df[df[\"consumer_complaint_narrative\"].str.contains(\n",
        "    \"insurance|auto insurance|home insurance|health insurance|life insurance|policy|claim|coverage\",\n",
        "    case=False,\n",
        "    na=False\n",
        ")]"
      ],
      "metadata": {
        "id": "xe4Hc5z-bFcI"
      },
      "execution_count": 17,
      "outputs": []
    },
    {
      "cell_type": "code",
      "source": [
        "print(f\"Number of rows after filtering for 'insurance' keywords: {len(df_insurance)}\")"
      ],
      "metadata": {
        "colab": {
          "base_uri": "https://localhost:8080/"
        },
        "id": "9vXgVizRbIw4",
        "outputId": "822ffac3-4ebb-44e0-f40e-e5019c5dd1b4"
      },
      "execution_count": 18,
      "outputs": [
        {
          "output_type": "stream",
          "name": "stdout",
          "text": [
            "Number of rows after filtering for 'insurance' keywords: 11340\n"
          ]
        }
      ]
    },
    {
      "cell_type": "code",
      "source": [
        " df_small = df_insurance.dropna(subset=[\"consumer_complaint_narrative\"]).sample(1000, random_state=42)"
      ],
      "metadata": {
        "id": "u5FuMdwqbSZS"
      },
      "execution_count": 19,
      "outputs": []
    },
    {
      "cell_type": "code",
      "source": [
        "df_small.to_csv(\"insurance_complaints_sample.csv\", index=False)"
      ],
      "metadata": {
        "id": "yhDQfLyXbUm7"
      },
      "execution_count": 20,
      "outputs": []
    },
    {
      "cell_type": "code",
      "source": [
        "print(f\"Number of rows after sampling: {len(df_small)}\")"
      ],
      "metadata": {
        "colab": {
          "base_uri": "https://localhost:8080/"
        },
        "id": "DyDeftHsbZqi",
        "outputId": "5a2de35e-73ea-433a-8d71-0bef01c6fa5b"
      },
      "execution_count": 21,
      "outputs": [
        {
          "output_type": "stream",
          "name": "stdout",
          "text": [
            "Number of rows after sampling: 1000\n"
          ]
        }
      ]
    },
    {
      "cell_type": "code",
      "source": [
        "print(\"\\nSampled DataFrame Info:\")\n",
        "print(df_small.info())\n",
        "print(\"\\nSampled DataFrame Head:\")\n",
        "print(df_small.head())"
      ],
      "metadata": {
        "colab": {
          "base_uri": "https://localhost:8080/"
        },
        "id": "W4gh-cNMbdt5",
        "outputId": "94750f1d-8f13-46c4-8b5e-2bbd7e8679be"
      },
      "execution_count": 23,
      "outputs": [
        {
          "output_type": "stream",
          "name": "stdout",
          "text": [
            "\n",
            "Sampled DataFrame Info:\n",
            "<class 'pandas.core.frame.DataFrame'>\n",
            "Index: 1000 entries, 227376 to 291244\n",
            "Data columns (total 18 columns):\n",
            " #   Column                        Non-Null Count  Dtype \n",
            "---  ------                        --------------  ----- \n",
            " 0   date_received                 1000 non-null   object\n",
            " 1   product                       1000 non-null   object\n",
            " 2   sub_product                   774 non-null    object\n",
            " 3   issue                         1000 non-null   object\n",
            " 4   sub_issue                     402 non-null    object\n",
            " 5   consumer_complaint_narrative  1000 non-null   object\n",
            " 6   company_public_response       485 non-null    object\n",
            " 7   company                       1000 non-null   object\n",
            " 8   state                         997 non-null    object\n",
            " 9   zipcode                       997 non-null    object\n",
            " 10  tags                          186 non-null    object\n",
            " 11  consumer_consent_provided     1000 non-null   object\n",
            " 12  submitted_via                 1000 non-null   object\n",
            " 13  date_sent_to_company          1000 non-null   object\n",
            " 14  company_response_to_consumer  1000 non-null   object\n",
            " 15  timely_response               1000 non-null   object\n",
            " 16  consumer_disputed?            1000 non-null   object\n",
            " 17  complaint_id                  1000 non-null   int64 \n",
            "dtypes: int64(1), object(17)\n",
            "memory usage: 148.4+ KB\n",
            "None\n",
            "\n",
            "Sampled DataFrame Head:\n",
            "       date_received          product                             sub_product  \\\n",
            "227376    05/21/2015         Mortgage             Conventional fixed mortgage   \n",
            "212643    04/08/2015  Debt collection                             Credit card   \n",
            "518905    02/17/2016         Mortgage  Conventional adjustable mortgage (ARM)   \n",
            "235635    05/18/2015  Debt collection   Other (i.e. phone, health club, etc.)   \n",
            "292282    09/12/2015         Mortgage             Conventional fixed mortgage   \n",
            "\n",
            "                                           issue  \\\n",
            "227376  Application, originator, mortgage broker   \n",
            "212643     Cont'd attempts collect debt not owed   \n",
            "518905              Settlement process and costs   \n",
            "235635           Disclosure verification of debt   \n",
            "292282  Loan servicing, payments, escrow account   \n",
            "\n",
            "                                   sub_issue  \\\n",
            "227376                                   NaN   \n",
            "212643                      Debt is not mine   \n",
            "518905                                   NaN   \n",
            "235635  Right to dispute notice not received   \n",
            "292282                                   NaN   \n",
            "\n",
            "                             consumer_complaint_narrative  \\\n",
            "227376  We applied online to Bank of America for a new...   \n",
            "212643  XXXX XXXX XXXX XXXX, SC XXXXPortfolio Recovery...   \n",
            "518905  I have been trying to get the address to file ...   \n",
            "235635  I discovered my credit bureau reflected a coll...   \n",
            "292282  Chase bank recently used faulty information to...   \n",
            "\n",
            "                                 company_public_response  \\\n",
            "227376  Company chooses not to provide a public response   \n",
            "212643                                               NaN   \n",
            "518905  Company chooses not to provide a public response   \n",
            "235635  Company chooses not to provide a public response   \n",
            "292282                                               NaN   \n",
            "\n",
            "                                    company state zipcode            tags  \\\n",
            "227376                      Bank of America    LA   705XX  Older American   \n",
            "212643  Portfolio Recovery Associates, Inc.    SC   296XX             NaN   \n",
            "518905                      Bank of America    UT   840XX             NaN   \n",
            "235635             Harvard Collections, LLC    IL   601XX   Servicemember   \n",
            "292282                 JPMorgan Chase & Co.    NY   112XX             NaN   \n",
            "\n",
            "       consumer_consent_provided submitted_via date_sent_to_company  \\\n",
            "227376          Consent provided           Web           05/21/2015   \n",
            "212643          Consent provided           Web           04/08/2015   \n",
            "518905          Consent provided           Web           02/17/2016   \n",
            "235635          Consent provided           Web           05/18/2015   \n",
            "292282          Consent provided           Web           09/12/2015   \n",
            "\n",
            "           company_response_to_consumer timely_response consumer_disputed?  \\\n",
            "227376          Closed with explanation             Yes                Yes   \n",
            "212643  Closed with non-monetary relief             Yes                Yes   \n",
            "518905          Closed with explanation             Yes                Yes   \n",
            "235635                           Closed              No                 No   \n",
            "292282          Closed with explanation             Yes                 No   \n",
            "\n",
            "        complaint_id  \n",
            "227376       1387157  \n",
            "212643       1320989  \n",
            "518905       1790140  \n",
            "235635       1380934  \n",
            "292282       1562460  \n"
          ]
        }
      ]
    },
    {
      "cell_type": "code",
      "source": [
        "if len(df_small) > 0:\n",
        "    def clean_text(text):\n",
        "        if isinstance(text, str):\n",
        "            text = text.lower()\n",
        "            text = re.sub(r'<[^>]*>', '', text)\n",
        "            text = re.sub(r'https?://\\S+|www\\.\\S+', '', text)\n",
        "            text = re.sub(r'[^a-zA-Z\\s]', '', text)\n",
        "            text = text.translate(str.maketrans('', '', string.punctuation))\n",
        "            words = text.split()\n",
        "            stop_words = set(stopwords.words('english'))\n",
        "            words = [word for word in words if word not in stop_words]\n",
        "            lemmatizer = WordNetLemmatizer()\n",
        "            words = [lemmatizer.lemmatize(word) for word in words if len(word) > 2]\n",
        "            text = ' '.join(words)\n",
        "            return text\n",
        "        else:\n",
        "            return ''"
      ],
      "metadata": {
        "id": "CtG6LNPZb0nK"
      },
      "execution_count": 24,
      "outputs": []
    },
    {
      "cell_type": "code",
      "source": [
        "import nltk\n",
        "\n",
        "\n",
        "nltk.download('stopwords')\n",
        "nltk.download('wordnet')\n",
        "\n",
        "\n",
        "from nltk.corpus import stopwords\n",
        "from nltk.stem import WordNetLemmatizer"
      ],
      "metadata": {
        "colab": {
          "base_uri": "https://localhost:8080/"
        },
        "id": "Bz1mWSmOcQqy",
        "outputId": "3a32714a-2e55-4350-a0d4-515b9fb09bde"
      },
      "execution_count": 28,
      "outputs": [
        {
          "output_type": "stream",
          "name": "stderr",
          "text": [
            "[nltk_data] Downloading package stopwords to /root/nltk_data...\n",
            "[nltk_data]   Package stopwords is already up-to-date!\n",
            "[nltk_data] Downloading package wordnet to /root/nltk_data...\n"
          ]
        }
      ]
    },
    {
      "cell_type": "code",
      "source": [
        "df_small['Cleaned Complaint'] = df_small['consumer_complaint_narrative'].apply(clean_text)\n",
        "df_small = df_small[df_small['Cleaned Complaint'] != '']"
      ],
      "metadata": {
        "id": "69R8-XBVb9lh"
      },
      "execution_count": 29,
      "outputs": []
    },
    {
      "cell_type": "code",
      "source": [
        " # 3. Exploratory Data Analysis (EDA)\n",
        " # 3.1 Complaint Distribution by Product\n",
        "plt.figure(figsize=(10, 6))\n",
        "sns.countplot(x='product', data=df_small)\n",
        "plt.title('Number of Complaints per Product')\n",
        "plt.xticks(rotation=45, ha='right')\n",
        "plt.show()"
      ],
      "metadata": {
        "colab": {
          "base_uri": "https://localhost:8080/",
          "height": 678
        },
        "id": "stKmdB9pcqZq",
        "outputId": "e675dbcc-37ba-4f4d-e0d2-022e88304bae"
      },
      "execution_count": 31,
      "outputs": [
        {
          "output_type": "display_data",
          "data": {
            "text/plain": [
              "<Figure size 1000x600 with 1 Axes>"
            ],
            "image/png": "[encoded data removed]"
          },
          "metadata": {}
        }
      ]
    },
    {
      "cell_type": "code",
      "source": [
        "# 3.2 Text Length Analysis\n",
        "df_small['Text Length'] = df_small['Cleaned Complaint'].apply(len)\n",
        "plt.figure(figsize=(8, 5))\n",
        "sns.histplot(df_small['Text Length'], bins=50)\n",
        "plt.title('Distribution of Cleaned Complaint Text Length')\n",
        "plt.show()"
      ],
      "metadata": {
        "colab": {
          "base_uri": "https://localhost:8080/",
          "height": 487
        },
        "id": "a6ZZ5_sDc3Zr",
        "outputId": "41ed0ecd-d40e-4494-a5b5-20e3802835db"
      },
      "execution_count": 33,
      "outputs": [
        {
          "output_type": "display_data",
          "data": {
            "text/plain": [
              "<Figure size 800x500 with 1 Axes>"
            ],
            "image/png": "[encoded data removed]"
          },
          "metadata": {}
        }
      ]
    },
    {
      "cell_type": "code",
      "source": [
        "# 3.3 Word Frequency\n",
        "vectorizer = CountVectorizer(max_features=20)\n",
        "X = vectorizer.fit_transform(df_small['Cleaned Complaint'])\n",
        "word_freq = pd.DataFrame(X.toarray(), columns=vectorizer.get_feature_names_out())\n",
        "top_words = word_freq.sum().sort_values(ascending=False).head(10)\n",
        "print(\"\\nTop 10 Words:\")\n",
        "print(top_words)"
      ],
      "metadata": {
        "colab": {
          "base_uri": "https://localhost:8080/"
        },
        "id": "mJP6GzX2dISD",
        "outputId": "f86e056b-3cde-4b2a-ac05-aaacf9e7e432"
      },
      "execution_count": 34,
      "outputs": [
        {
          "output_type": "stream",
          "name": "stdout",
          "text": [
            "\n",
            "Top 10 Words:\n",
            "xxxx        11716\n",
            "account      1632\n",
            "credit       1474\n",
            "payment      1336\n",
            "loan         1070\n",
            "would        1025\n",
            "bank         1007\n",
            "xxxxxxxx      976\n",
            "mortgage      841\n",
            "company       833\n",
            "dtype: int64\n"
          ]
        }
      ]
    },
    {
      "cell_type": "code",
      "source": [
        "# 4. Sentiment Analysis\n",
        "# 4.1 Sentiment Labeling (Simplified)\n",
        "df_small['Sentiment'] = df_small['consumer_disputed?'].apply(lambda x: 'Negative' if x == 'Yes' else 'Positive')\n",
        "df_small['Sentiment'] = df_small['Sentiment'].fillna('Neutral')"
      ],
      "metadata": {
        "id": "J9_3MWDDdUF6"
      },
      "execution_count": 35,
      "outputs": []
    },
    {
      "cell_type": "code",
      "source": [
        " # 4.2 Text Vectorization (TF-IDF)\n",
        "tfidf_vectorizer = TfidfVectorizer(max_features=5000)\n",
        "X_tfidf = tfidf_vectorizer.fit_transform(df_small['Cleaned Complaint'])\n",
        "y = df_small['Sentiment']"
      ],
      "metadata": {
        "id": "A9e2CXH_dgCc"
      },
      "execution_count": 36,
      "outputs": []
    },
    {
      "cell_type": "code",
      "source": [
        " # 4.3 Train-Test Split\n",
        "X_train, X_test, y_train, y_test = train_test_split(X_tfidf, y, test_size=0.2, random_state=42)\n",
        "\n",
        "  # 4.4 Model Training (Logistic Regression)\n",
        "lr_model = LogisticRegression(max_iter=1000)\n",
        "lr_model.fit(X_train, y_train)\n",
        "y_pred_lr = lr_model.predict(X_test)\n",
        "print(\"\\nLogistic Regression Classification Report:\\n\", classification_report(y_test, y_pred_lr))"
      ],
      "metadata": {
        "colab": {
          "base_uri": "https://localhost:8080/"
        },
        "id": "SHUJ_AU1doRy",
        "outputId": "bf11f85f-2930-4063-a76d-cb4490e62f45"
      },
      "execution_count": 37,
      "outputs": [
        {
          "output_type": "stream",
          "name": "stdout",
          "text": [
            "\n",
            "Logistic Regression Classification Report:\n",
            "               precision    recall  f1-score   support\n",
            "\n",
            "    Negative       1.00      0.02      0.04        53\n",
            "    Positive       0.74      1.00      0.85       147\n",
            "\n",
            "    accuracy                           0.74       200\n",
            "   macro avg       0.87      0.51      0.44       200\n",
            "weighted avg       0.81      0.74      0.63       200\n",
            "\n"
          ]
        }
      ]
    },
    {
      "cell_type": "code",
      "source": [
        " # Topic Modeling\n",
        "    # LDA\n",
        "num_topics = 5\n",
        "lda_model = LatentDirichletAllocation(n_components=num_topics, random_state=42)\n",
        "lda_model.fit(X_tfidf)"
      ],
      "metadata": {
        "colab": {
          "base_uri": "https://localhost:8080/",
          "height": 80
        },
        "id": "3QHIjCA5d0qb",
        "outputId": "2ef790b7-c122-45a1-bb3d-72582bfac857"
      },
      "execution_count": 38,
      "outputs": [
        {
          "output_type": "execute_result",
          "data": {
            "text/plain": [
              "LatentDirichletAllocation(n_components=5, random_state=42)"
            ],
            "text/html": [
              "<style>#sk-container-id-1 {\n",
              "  /* Definition of color scheme common for light and dark mode */\n",
              "  --sklearn-color-text: #000;\n",
              "  --sklearn-color-text-muted: #666;\n",
              "  --sklearn-color-line: gray;\n",
              "  /* Definition of color scheme for unfitted estimators */\n",
              "  --sklearn-color-unfitted-level-0: #fff5e6;\n",
              "  --sklearn-color-unfitted-level-1: #f6e4d2;\n",
              "  --sklearn-color-unfitted-level-2: #ffe0b3;\n",
              "  --sklearn-color-unfitted-level-3: chocolate;\n",
              "  /* Definition of color scheme for fitted estimators */\n",
              "  --sklearn-color-fitted-level-0: #f0f8ff;\n",
              "  --sklearn-color-fitted-level-1: #d4ebff;\n",
              "  --sklearn-color-fitted-level-2: #b3dbfd;\n",
              "  --sklearn-color-fitted-level-3: cornflowerblue;\n",
              "\n",
              "  /* Specific color for light theme */\n",
              "  --sklearn-color-text-on-default-background: var(--sg-text-color, var(--theme-code-foreground, var(--jp-content-font-color1, black)));\n",
              "  --sklearn-color-background: var(--sg-background-color, var(--theme-background, var(--jp-layout-color0, white)));\n",
              "  --sklearn-color-border-box: var(--sg-text-color, var(--theme-code-foreground, var(--jp-content-font-color1, black)));\n",
              "  --sklearn-color-icon: #696969;\n",
              "\n",
              "  @media (prefers-color-scheme: dark) {\n",
              "    /* Redefinition of color scheme for dark theme */\n",
              "    --sklearn-color-text-on-default-background: var(--sg-text-color, var(--theme-code-foreground, var(--jp-content-font-color1, white)));\n",
              "    --sklearn-color-background: var(--sg-background-color, var(--theme-background, var(--jp-layout-color0, #111)));\n",
              "    --sklearn-color-border-box: var(--sg-text-color, var(--theme-code-foreground, var(--jp-content-font-color1, white)));\n",
              "    --sklearn-color-icon: #878787;\n",
              "  }\n",
              "}\n",
              "\n",
              "#sk-container-id-1 {\n",
              "  color: var(--sklearn-color-text);\n",
              "}\n",
              "\n",
              "#sk-container-id-1 pre {\n",
              "  padding: 0;\n",
              "}\n",
              "\n",
              "#sk-container-id-1 input.sk-hidden--visually {\n",
              "  border: 0;\n",
              "  clip: rect(1px 1px 1px 1px);\n",
              "  clip: rect(1px, 1px, 1px, 1px);\n",
              "  height: 1px;\n",
              "  margin: -1px;\n",
              "  overflow: hidden;\n",
              "  padding: 0;\n",
              "  position: absolute;\n",
              "  width: 1px;\n",
              "}\n",
              "\n",
              "#sk-container-id-1 div.sk-dashed-wrapped {\n",
              "  border: 1px dashed var(--sklearn-color-line);\n",
              "  margin: 0 0.4em 0.5em 0.4em;\n",
              "  box-sizing: border-box;\n",
              "  padding-bottom: 0.4em;\n",
              "  background-color: var(--sklearn-color-background);\n",
              "}\n",
              "\n",
              "#sk-container-id-1 div.sk-container {\n",
              "  /* jupyter's `normalize.less` sets `[hidden] { display: none; }`\n",
              "     but bootstrap.min.css set `[hidden] { display: none !important; }`\n",
              "     so we also need the `!important` here to be able to override the\n",
              "     default hidden behavior on the sphinx rendered scikit-learn.org.\n",
              "     See: https://github.com/scikit-learn/scikit-learn/issues/21755 */\n",
              "  display: inline-block !important;\n",
              "  position: relative;\n",
              "}\n",
              "\n",
              "#sk-container-id-1 div.sk-text-repr-fallback {\n",
              "  display: none;\n",
              "}\n",
              "\n",
              "div.sk-parallel-item,\n",
              "div.sk-serial,\n",
              "div.sk-item {\n",
              "  /* draw centered vertical line to link estimators */\n",
              "  background-image: linear-gradient(var(--sklearn-color-text-on-default-background), var(--sklearn-color-text-on-default-background));\n",
              "  background-size: 2px 100%;\n",
              "  background-repeat: no-repeat;\n",
              "  background-position: center center;\n",
              "}\n",
              "\n",
              "/* Parallel-specific style estimator block */\n",
              "\n",
              "#sk-container-id-1 div.sk-parallel-item::after {\n",
              "  content: \"\";\n",
              "  width: 100%;\n",
              "  border-bottom: 2px solid var(--sklearn-color-text-on-default-background);\n",
              "  flex-grow: 1;\n",
              "}\n",
              "\n",
              "#sk-container-id-1 div.sk-parallel {\n",
              "  display: flex;\n",
              "  align-items: stretch;\n",
              "  justify-content: center;\n",
              "  background-color: var(--sklearn-color-background);\n",
              "  position: relative;\n",
              "}\n",
              "\n",
              "#sk-container-id-1 div.sk-parallel-item {\n",
              "  display: flex;\n",
              "  flex-direction: column;\n",
              "}\n",
              "\n",
              "#sk-container-id-1 div.sk-parallel-item:first-child::after {\n",
              "  align-self: flex-end;\n",
              "  width: 50%;\n",
              "}\n",
              "\n",
              "#sk-container-id-1 div.sk-parallel-item:last-child::after {\n",
              "  align-self: flex-start;\n",
              "  width: 50%;\n",
              "}\n",
              "\n",
              "#sk-container-id-1 div.sk-parallel-item:only-child::after {\n",
              "  width: 0;\n",
              "}\n",
              "\n",
              "/* Serial-specific style estimator block */\n",
              "\n",
              "#sk-container-id-1 div.sk-serial {\n",
              "  display: flex;\n",
              "  flex-direction: column;\n",
              "  align-items: center;\n",
              "  background-color: var(--sklearn-color-background);\n",
              "  padding-right: 1em;\n",
              "  padding-left: 1em;\n",
              "}\n",
              "\n",
              "\n",
              "/* Toggleable style: style used for estimator/Pipeline/ColumnTransformer box that is\n",
              "clickable and can be expanded/collapsed.\n",
              "- Pipeline and ColumnTransformer use this feature and define the default style\n",
              "- Estimators will overwrite some part of the style using the `sk-estimator` class\n",
              "*/\n",
              "\n",
              "/* Pipeline and ColumnTransformer style (default) */\n",
              "\n",
              "#sk-container-id-1 div.sk-toggleable {\n",
              "  /* Default theme specific background. It is overwritten whether we have a\n",
              "  specific estimator or a Pipeline/ColumnTransformer */\n",
              "  background-color: var(--sklearn-color-background);\n",
              "}\n",
              "\n",
              "/* Toggleable label */\n",
              "#sk-container-id-1 label.sk-toggleable__label {\n",
              "  cursor: pointer;\n",
              "  display: flex;\n",
              "  width: 100%;\n",
              "  margin-bottom: 0;\n",
              "  padding: 0.5em;\n",
              "  box-sizing: border-box;\n",
              "  text-align: center;\n",
              "  align-items: start;\n",
              "  justify-content: space-between;\n",
              "  gap: 0.5em;\n",
              "}\n",
              "\n",
              "#sk-container-id-1 label.sk-toggleable__label .caption {\n",
              "  font-size: 0.6rem;\n",
              "  font-weight: lighter;\n",
              "  color: var(--sklearn-color-text-muted);\n",
              "}\n",
              "\n",
              "#sk-container-id-1 label.sk-toggleable__label-arrow:before {\n",
              "  /* Arrow on the left of the label */\n",
              "  content: \"▸\";\n",
              "  float: left;\n",
              "  margin-right: 0.25em;\n",
              "  color: var(--sklearn-color-icon);\n",
              "}\n",
              "\n",
              "#sk-container-id-1 label.sk-toggleable__label-arrow:hover:before {\n",
              "  color: var(--sklearn-color-text);\n",
              "}\n",
              "\n",
              "/* Toggleable content - dropdown */\n",
              "\n",
              "#sk-container-id-1 div.sk-toggleable__content {\n",
              "  max-height: 0;\n",
              "  max-width: 0;\n",
              "  overflow: hidden;\n",
              "  text-align: left;\n",
              "  /* unfitted */\n",
              "  background-color: var(--sklearn-color-unfitted-level-0);\n",
              "}\n",
              "\n",
              "#sk-container-id-1 div.sk-toggleable__content.fitted {\n",
              "  /* fitted */\n",
              "  background-color: var(--sklearn-color-fitted-level-0);\n",
              "}\n",
              "\n",
              "#sk-container-id-1 div.sk-toggleable__content pre {\n",
              "  margin: 0.2em;\n",
              "  border-radius: 0.25em;\n",
              "  color: var(--sklearn-color-text);\n",
              "  /* unfitted */\n",
              "  background-color: var(--sklearn-color-unfitted-level-0);\n",
              "}\n",
              "\n",
              "#sk-container-id-1 div.sk-toggleable__content.fitted pre {\n",
              "  /* unfitted */\n",
              "  background-color: var(--sklearn-color-fitted-level-0);\n",
              "}\n",
              "\n",
              "#sk-container-id-1 input.sk-toggleable__control:checked~div.sk-toggleable__content {\n",
              "  /* Expand drop-down */\n",
              "  max-height: 200px;\n",
              "  max-width: 100%;\n",
              "  overflow: auto;\n",
              "}\n",
              "\n",
              "#sk-container-id-1 input.sk-toggleable__control:checked~label.sk-toggleable__label-arrow:before {\n",
              "  content: \"▾\";\n",
              "}\n",
              "\n",
              "/* Pipeline/ColumnTransformer-specific style */\n",
              "\n",
              "#sk-container-id-1 div.sk-label input.sk-toggleable__control:checked~label.sk-toggleable__label {\n",
              "  color: var(--sklearn-color-text);\n",
              "  background-color: var(--sklearn-color-unfitted-level-2);\n",
              "}\n",
              "\n",
              "#sk-container-id-1 div.sk-label.fitted input.sk-toggleable__control:checked~label.sk-toggleable__label {\n",
              "  background-color: var(--sklearn-color-fitted-level-2);\n",
              "}\n",
              "\n",
              "/* Estimator-specific style */\n",
              "\n",
              "/* Colorize estimator box */\n",
              "#sk-container-id-1 div.sk-estimator input.sk-toggleable__control:checked~label.sk-toggleable__label {\n",
              "  /* unfitted */\n",
              "  background-color: var(--sklearn-color-unfitted-level-2);\n",
              "}\n",
              "\n",
              "#sk-container-id-1 div.sk-estimator.fitted input.sk-toggleable__control:checked~label.sk-toggleable__label {\n",
              "  /* fitted */\n",
              "  background-color: var(--sklearn-color-fitted-level-2);\n",
              "}\n",
              "\n",
              "#sk-container-id-1 div.sk-label label.sk-toggleable__label,\n",
              "#sk-container-id-1 div.sk-label label {\n",
              "  /* The background is the default theme color */\n",
              "  color: var(--sklearn-color-text-on-default-background);\n",
              "}\n",
              "\n",
              "/* On hover, darken the color of the background */\n",
              "#sk-container-id-1 div.sk-label:hover label.sk-toggleable__label {\n",
              "  color: var(--sklearn-color-text);\n",
              "  background-color: var(--sklearn-color-unfitted-level-2);\n",
              "}\n",
              "\n",
              "/* Label box, darken color on hover, fitted */\n",
              "#sk-container-id-1 div.sk-label.fitted:hover label.sk-toggleable__label.fitted {\n",
              "  color: var(--sklearn-color-text);\n",
              "  background-color: var(--sklearn-color-fitted-level-2);\n",
              "}\n",
              "\n",
              "/* Estimator label */\n",
              "\n",
              "#sk-container-id-1 div.sk-label label {\n",
              "  font-family: monospace;\n",
              "  font-weight: bold;\n",
              "  display: inline-block;\n",
              "  line-height: 1.2em;\n",
              "}\n",
              "\n",
              "#sk-container-id-1 div.sk-label-container {\n",
              "  text-align: center;\n",
              "}\n",
              "\n",
              "/* Estimator-specific */\n",
              "#sk-container-id-1 div.sk-estimator {\n",
              "  font-family: monospace;\n",
              "  border: 1px dotted var(--sklearn-color-border-box);\n",
              "  border-radius: 0.25em;\n",
              "  box-sizing: border-box;\n",
              "  margin-bottom: 0.5em;\n",
              "  /* unfitted */\n",
              "  background-color: var(--sklearn-color-unfitted-level-0);\n",
              "}\n",
              "\n",
              "#sk-container-id-1 div.sk-estimator.fitted {\n",
              "  /* fitted */\n",
              "  background-color: var(--sklearn-color-fitted-level-0);\n",
              "}\n",
              "\n",
              "/* on hover */\n",
              "#sk-container-id-1 div.sk-estimator:hover {\n",
              "  /* unfitted */\n",
              "  background-color: var(--sklearn-color-unfitted-level-2);\n",
              "}\n",
              "\n",
              "#sk-container-id-1 div.sk-estimator.fitted:hover {\n",
              "  /* fitted */\n",
              "  background-color: var(--sklearn-color-fitted-level-2);\n",
              "}\n",
              "\n",
              "/* Specification for estimator info (e.g. \"i\" and \"?\") */\n",
              "\n",
              "/* Common style for \"i\" and \"?\" */\n",
              "\n",
              ".sk-estimator-doc-link,\n",
              "a:link.sk-estimator-doc-link,\n",
              "a:visited.sk-estimator-doc-link {\n",
              "  float: right;\n",
              "  font-size: smaller;\n",
              "  line-height: 1em;\n",
              "  font-family: monospace;\n",
              "  background-color: var(--sklearn-color-background);\n",
              "  border-radius: 1em;\n",
              "  height: 1em;\n",
              "  width: 1em;\n",
              "  text-decoration: none !important;\n",
              "  margin-left: 0.5em;\n",
              "  text-align: center;\n",
              "  /* unfitted */\n",
              "  border: var(--sklearn-color-unfitted-level-1) 1pt solid;\n",
              "  color: var(--sklearn-color-unfitted-level-1);\n",
              "}\n",
              "\n",
              ".sk-estimator-doc-link.fitted,\n",
              "a:link.sk-estimator-doc-link.fitted,\n",
              "a:visited.sk-estimator-doc-link.fitted {\n",
              "  /* fitted */\n",
              "  border: var(--sklearn-color-fitted-level-1) 1pt solid;\n",
              "  color: var(--sklearn-color-fitted-level-1);\n",
              "}\n",
              "\n",
              "/* On hover */\n",
              "div.sk-estimator:hover .sk-estimator-doc-link:hover,\n",
              ".sk-estimator-doc-link:hover,\n",
              "div.sk-label-container:hover .sk-estimator-doc-link:hover,\n",
              ".sk-estimator-doc-link:hover {\n",
              "  /* unfitted */\n",
              "  background-color: var(--sklearn-color-unfitted-level-3);\n",
              "  color: var(--sklearn-color-background);\n",
              "  text-decoration: none;\n",
              "}\n",
              "\n",
              "div.sk-estimator.fitted:hover .sk-estimator-doc-link.fitted:hover,\n",
              ".sk-estimator-doc-link.fitted:hover,\n",
              "div.sk-label-container:hover .sk-estimator-doc-link.fitted:hover,\n",
              ".sk-estimator-doc-link.fitted:hover {\n",
              "  /* fitted */\n",
              "  background-color: var(--sklearn-color-fitted-level-3);\n",
              "  color: var(--sklearn-color-background);\n",
              "  text-decoration: none;\n",
              "}\n",
              "\n",
              "/* Span, style for the box shown on hovering the info icon */\n",
              ".sk-estimator-doc-link span {\n",
              "  display: none;\n",
              "  z-index: 9999;\n",
              "  position: relative;\n",
              "  font-weight: normal;\n",
              "  right: .2ex;\n",
              "  padding: .5ex;\n",
              "  margin: .5ex;\n",
              "  width: min-content;\n",
              "  min-width: 20ex;\n",
              "  max-width: 50ex;\n",
              "  color: var(--sklearn-color-text);\n",
              "  box-shadow: 2pt 2pt 4pt #999;\n",
              "  /* unfitted */\n",
              "  background: var(--sklearn-color-unfitted-level-0);\n",
              "  border: .5pt solid var(--sklearn-color-unfitted-level-3);\n",
              "}\n",
              "\n",
              ".sk-estimator-doc-link.fitted span {\n",
              "  /* fitted */\n",
              "  background: var(--sklearn-color-fitted-level-0);\n",
              "  border: var(--sklearn-color-fitted-level-3);\n",
              "}\n",
              "\n",
              ".sk-estimator-doc-link:hover span {\n",
              "  display: block;\n",
              "}\n",
              "\n",
              "/* \"?\"-specific style due to the `<a>` HTML tag */\n",
              "\n",
              "#sk-container-id-1 a.estimator_doc_link {\n",
              "  float: right;\n",
              "  font-size: 1rem;\n",
              "  line-height: 1em;\n",
              "  font-family: monospace;\n",
              "  background-color: var(--sklearn-color-background);\n",
              "  border-radius: 1rem;\n",
              "  height: 1rem;\n",
              "  width: 1rem;\n",
              "  text-decoration: none;\n",
              "  /* unfitted */\n",
              "  color: var(--sklearn-color-unfitted-level-1);\n",
              "  border: var(--sklearn-color-unfitted-level-1) 1pt solid;\n",
              "}\n",
              "\n",
              "#sk-container-id-1 a.estimator_doc_link.fitted {\n",
              "  /* fitted */\n",
              "  border: var(--sklearn-color-fitted-level-1) 1pt solid;\n",
              "  color: var(--sklearn-color-fitted-level-1);\n",
              "}\n",
              "\n",
              "/* On hover */\n",
              "#sk-container-id-1 a.estimator_doc_link:hover {\n",
              "  /* unfitted */\n",
              "  background-color: var(--sklearn-color-unfitted-level-3);\n",
              "  color: var(--sklearn-color-background);\n",
              "  text-decoration: none;\n",
              "}\n",
              "\n",
              "#sk-container-id-1 a.estimator_doc_link.fitted:hover {\n",
              "  /* fitted */\n",
              "  background-color: var(--sklearn-color-fitted-level-3);\n",
              "}\n",
              "</style><div id=\"sk-container-id-1\" class=\"sk-top-container\"><div class=\"sk-text-repr-fallback\"><pre>LatentDirichletAllocation(n_components=5, random_state=42)</pre><b>In a Jupyter environment, please rerun this cell to show the HTML representation or trust the notebook. <br />On GitHub, the HTML representation is unable to render, please try loading this page with nbviewer.org.</b></div><div class=\"sk-container\" hidden><div class=\"sk-item\"><div class=\"sk-estimator fitted sk-toggleable\"><input class=\"sk-toggleable__control sk-hidden--visually\" id=\"sk-estimator-id-1\" type=\"checkbox\" checked><label for=\"sk-estimator-id-1\" class=\"sk-toggleable__label fitted sk-toggleable__label-arrow\"><div><div>LatentDirichletAllocation</div></div><div><a class=\"sk-estimator-doc-link fitted\" rel=\"noreferrer\" target=\"_blank\" href=\"https://scikit-learn.org/1.6/modules/generated/sklearn.decomposition.LatentDirichletAllocation.html\">?<span>Documentation for LatentDirichletAllocation</span></a><span class=\"sk-estimator-doc-link fitted\">i<span>Fitted</span></span></div></label><div class=\"sk-toggleable__content fitted\"><pre>LatentDirichletAllocation(n_components=5, random_state=42)</pre></div> </div></div></div></div>"
            ]
          },
          "metadata": {},
          "execution_count": 38
        }
      ]
    },
    {
      "cell_type": "code",
      "source": [
        "def display_topics(model, feature_names, num_top_words=10):\n",
        "        for topic_idx, topic in enumerate(model.components_):\n",
        "            print(f\"Topic {topic_idx}:\")\n",
        "            print(\" \".join([feature_names[i] for i in topic.argsort()[:-num_top_words - 1:-1]]))"
      ],
      "metadata": {
        "id": "CUuXhilWd_NV"
      },
      "execution_count": 39,
      "outputs": []
    },
    {
      "cell_type": "code",
      "source": [
        "tfidf_feature_names = tfidf_vectorizer.get_feature_names_out()\n",
        "print(\"\\nLDA Topics:\")\n",
        "display_topics(lda_model, tfidf_feature_names)"
      ],
      "metadata": {
        "colab": {
          "base_uri": "https://localhost:8080/"
        },
        "id": "0OQmqqI_eGd_",
        "outputId": "d3c1d798-8dd3-4d82-8e01-8827639bf9f4"
      },
      "execution_count": 40,
      "outputs": [
        {
          "output_type": "stream",
          "name": "stdout",
          "text": [
            "\n",
            "LDA Topics:\n",
            "Topic 0:\n",
            "caliber hsbc infiniti ltv phh coop fay capitalone bond quicken\n",
            "Topic 1:\n",
            "xxxx account credit payment debt loan bank xxxxxxxx company insurance\n",
            "Topic 2:\n",
            "scottrade farm target becu cps citigroup tcf claimcould shipper mutual\n",
            "Topic 3:\n",
            "glass pinnacle pal bessemer mccarthy supplier nycb marvel mold wolff\n",
            "Topic 4:\n",
            "rmc certegy eoscca awa telecheck intercepted ebay mariner convergence zakheim\n"
          ]
        }
      ]
    }
  ]
}